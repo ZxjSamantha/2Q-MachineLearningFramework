{
 "cells": [
  {
   "cell_type": "code",
   "execution_count": 4,
   "metadata": {},
   "outputs": [
    {
     "name": "stdout",
     "output_type": "stream",
     "text": [
      "The sum of integers in the range of [1,100] is  5050\n"
     ]
    }
   ],
   "source": [
    "# Calculate the sum of integers in the range of  [1,100].\n",
    "\n",
    "start = 1\n",
    "end = 100\n",
    "\n",
    "nums = range(start, end+1)\n",
    "\n",
    "Final_sum = sum(nums)\n",
    "\n",
    "print(\"The sum of integers in the range of [1,100] is \", Final_sum)"
   ]
  },
  {
   "cell_type": "code",
   "execution_count": 42,
   "metadata": {},
   "outputs": [
    {
     "name": "stdout",
     "output_type": "stream",
     "text": [
      "The sum of integers in the range of [1,i] are\n",
      " [1, 3, 6, 10, 15, 21, 28, 36, 45, 55, 66, 78, 91, 105, 120, 136, 153, 171, 190, 210, 231, 253, 276, 300, 325, 351, 378, 406, 435, 465, 496, 528, 561, 595, 630, 666, 703, 741, 780, 820, 861, 903, 946, 990, 1035, 1081, 1128, 1176, 1225, 1275, 1326, 1378, 1431, 1485, 1540, 1596, 1653, 1711, 1770, 1830, 1891, 1953, 2016, 2080, 2145, 2211, 2278, 2346, 2415, 2485, 2556, 2628, 2701, 2775, 2850, 2926, 3003, 3081, 3160, 3240, 3321, 3403, 3486, 3570, 3655, 3741, 3828, 3916, 4005, 4095, 4186, 4278, 4371, 4465, 4560, 4656, 4753, 4851, 4950, 5050]\n"
     ]
    }
   ],
   "source": [
    "# Calculate the sum of integers in the range of [1,i] and print the sum, 1<i<=100.\n",
    "\n",
    "start = 1\n",
    "\n",
    "sum_list = [sum(range(1,i+1)) for i in nums]\n",
    "\n",
    "print(\"The sum of integers in the range of [1,i] are\\n\", sum_list)"
   ]
  },
  {
   "cell_type": "code",
   "execution_count": 23,
   "metadata": {},
   "outputs": [
    {
     "name": "stdout",
     "output_type": "stream",
     "text": [
      "The even numbers in the sum_list are\n",
      " [6, 10, 28, 36, 66, 78, 120, 136, 190, 210, 276, 300, 378, 406, 496, 528, 630, 666, 780, 820, 946, 990, 1128, 1176, 1326, 1378, 1540, 1596, 1770, 1830, 2016, 2080, 2278, 2346, 2556, 2628, 2850, 2926, 3160, 3240, 3486, 3570, 3828, 3916, 4186, 4278, 4560, 4656, 4950, 5050]\n"
     ]
    }
   ],
   "source": [
    "# Show the even numbers in the sum_list\n",
    "\n",
    "#len(sum_list)\n",
    "\n",
    "even_list = [num for num in sum_list if num%2 == 0]\n",
    "\n",
    "print(\"The even numbers in the sum_list are\\n\", even_list)"
   ]
  },
  {
   "cell_type": "code",
   "execution_count": 46,
   "metadata": {},
   "outputs": [
    {
     "name": "stdout",
     "output_type": "stream",
     "text": [
      "The squares of integers in [1,10] are [1, 4, 9, 16, 25, 36, 49, 64, 81, 100]\n",
      "cos 60: 0.500\n",
      "sin 60: 0.866\n"
     ]
    }
   ],
   "source": [
    "#Calculate the squares of integers in [1,10], cos60 degree and sin60 degree using math module\n",
    "\n",
    "import math\n",
    "\n",
    "new_start = 1\n",
    "new_end = 10\n",
    "\n",
    "squares = [i**2 for i in range(new_start, new_end+1)]\n",
    "\n",
    "print(\"The squares of integers in [1,10] are\",squares)\n",
    "\n",
    "angle = math.radians(60)\n",
    "\n",
    "cos_value = math.cos(angle)\n",
    "sin_value = math.sin(angle)\n",
    "\n",
    "print('cos 60: {:.3f}'.format(cos_value))\n",
    "\n",
    "print('sin 60: {:.3f}'.format(sin_value))\n",
    "\n"
   ]
  },
  {
   "cell_type": "code",
   "execution_count": 58,
   "metadata": {},
   "outputs": [
    {
     "name": "stdout",
     "output_type": "stream",
     "text": [
      "The square root of integers in [1,100] which are larger than 7.6 in descending order are\n",
      " [10.0, 9.95, 9.899, 9.849, 9.798, 9.747, 9.695, 9.644, 9.592, 9.539, 9.487, 9.434, 9.381, 9.327, 9.274, 9.22, 9.165, 9.11, 9.055, 9.0, 8.944, 8.888, 8.832, 8.775, 8.718, 8.66, 8.602, 8.544, 8.485, 8.426, 8.367, 8.307, 8.246, 8.185, 8.124, 8.062, 8.0, 7.937, 7.874, 7.81, 7.746, 7.681, 7.616]\n"
     ]
    }
   ],
   "source": [
    "#Calculate the square root of integers in [1,100] which are larger than 7.6 in descending order using math\n",
    "\n",
    "root_list = [math.sqrt(i) for i in nums]\n",
    "\n",
    "ConRoot_list = [round(root,3) for root in root_list if root > 7.6]\n",
    "ConRoot_list.sort(reverse = True)\n",
    "\n",
    "\n",
    "print(\"The square root of integers in [1,100] which are larger than 7.6 in descending order are\\n\", ConRoot_list)"
   ]
  },
  {
   "cell_type": "code",
   "execution_count": 66,
   "metadata": {},
   "outputs": [
    {
     "name": "stdout",
     "output_type": "stream",
     "text": [
      "Number 3 is multiple of 3\n",
      "Number 5 is multiple of 5\n",
      "Number 6 is multiple of 3\n",
      "Number 9 is multiple of 3\n",
      "Number 10 is multiple of 5\n",
      "Number 12 is multiple of 3\n",
      "Number 15 is multiple of 3 and 5\n",
      "Number 18 is multiple of 3\n",
      "Number 20 is multiple of 5\n",
      "Number 21 is multiple of 3\n",
      "Number 24 is multiple of 3\n",
      "Number 25 is multiple of 5\n",
      "Number 27 is multiple of 3\n",
      "Number 30 is multiple of 3 and 5\n",
      "Number 33 is multiple of 3\n",
      "Number 35 is multiple of 5\n",
      "Number 36 is multiple of 3\n",
      "Number 39 is multiple of 3\n",
      "Number 40 is multiple of 5\n",
      "Number 42 is multiple of 3\n",
      "Number 45 is multiple of 3 and 5\n",
      "Number 48 is multiple of 3\n",
      "Number 50 is multiple of 5\n"
     ]
    }
   ],
   "source": [
    "#Tag the multiples of 3,5 3 and 5 with \"Multiples of 3\", \"Multiples of 5\", and \"Multiples of 3 and 5\"\n",
    "\n",
    "def Multiples(num):\n",
    "    if num%3 ==0 and num%5 == 0: print('Number {} is multiple of 3 and 5'.format(num))\n",
    "    elif num%3 == 0: print('Number {} is multiple of 3'.format(num))\n",
    "    elif num%5 == 0: print('Number {} is multiple of 5'.format(num))\n",
    "        \n",
    "new_nums = range(1,1+50)\n",
    "\n",
    "for num in new_nums:\n",
    "    Multiples(num)\n"
   ]
  },
  {
   "cell_type": "code",
   "execution_count": 73,
   "metadata": {},
   "outputs": [
    {
     "name": "stdout",
     "output_type": "stream",
     "text": [
      "The slice containing numbers from 2th to 6th in the original list is\n",
      " [3, 4, 5, 6]\n",
      "The slice containing numbers from 4th to 8th in the original list is\n",
      " [5, 6, 7, 8]\n"
     ]
    }
   ],
   "source": [
    "#Present the slice containing numbers from 2th to 6th, and from 4th to 8th in the list of 1 to 10\n",
    "\n",
    "num_list = [i for i in range(1,11)]\n",
    "\n",
    "slice1 = num_list[2:6]\n",
    "\n",
    "print(\"The slice containing numbers from 2th to 6th in the original list is\\n\", slice1)\n",
    "\n",
    "slice2 = num_list[4:8]\n",
    "print(\"The slice containing numbers from 4th to 8th in the original list is\\n\", slice2)\n"
   ]
  },
  {
   "cell_type": "code",
   "execution_count": null,
   "metadata": {},
   "outputs": [],
   "source": []
  }
 ],
 "metadata": {
  "kernelspec": {
   "display_name": "Python 3",
   "language": "python",
   "name": "python3"
  },
  "language_info": {
   "codemirror_mode": {
    "name": "ipython",
    "version": 3
   },
   "file_extension": ".py",
   "mimetype": "text/x-python",
   "name": "python",
   "nbconvert_exporter": "python",
   "pygments_lexer": "ipython3",
   "version": "3.7.6"
  }
 },
 "nbformat": 4,
 "nbformat_minor": 4
}
